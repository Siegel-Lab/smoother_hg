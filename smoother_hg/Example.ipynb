{
 "cells": [
  {
   "cell_type": "code",
   "execution_count": 1,
   "id": "7e076307-d4e4-465d-8ab3-562e4991f087",
   "metadata": {},
   "outputs": [
    {
     "data": {
      "application/vnd.jupyter.widget-view+json": {
       "model_id": "310a1b8663a7455895d4204be9ac9c16",
       "version_major": 2,
       "version_minor": 0
      },
      "text/plain": [
       "HiGlassWidget()"
      ]
     },
     "execution_count": 1,
     "metadata": {},
     "output_type": "execute_result"
    }
   ],
   "source": [
    "import hg\n",
    "import smoother_hg\n",
    "\n",
    "path = \"../../../smoother_out/radicl.smoother_index\"\n",
    "tileset = smoother_hg.smoother(path)\n",
    "track = tileset.track(\"heatmap\")\n",
    "view = hg.view(track)\n",
    "widget = view.widget()\n",
    "\n",
    "widget"
   ]
  },
  {
   "cell_type": "code",
   "execution_count": 3,
   "id": "276e67c0-6f13-4264-9b52-3335973c8f71",
   "metadata": {},
   "outputs": [
    {
     "data": {
      "application/vnd.jupyter.widget-view+json": {
       "model_id": "6274ff88cf2d460ea39183562e31e883",
       "version_major": 2,
       "version_minor": 0
      },
      "text/plain": [
       "VBox(children=(HBox(children=(Label(value='Mapping Quality Minimum'), IntSlider(value=0, continuous_update=Fal…"
      ]
     },
     "execution_count": 3,
     "metadata": {},
     "output_type": "execute_result"
    }
   ],
   "source": [
    "smoother_hg.widgets(path, widget, view)"
   ]
  }
 ],
 "metadata": {
  "kernelspec": {
   "display_name": "hg-kernel",
   "language": "python",
   "name": "hg"
  },
  "language_info": {
   "codemirror_mode": {
    "name": "ipython",
    "version": 3
   },
   "file_extension": ".py",
   "mimetype": "text/x-python",
   "name": "python",
   "nbconvert_exporter": "python",
   "pygments_lexer": "ipython3",
   "version": "3.8.16"
  }
 },
 "nbformat": 4,
 "nbformat_minor": 5
}
