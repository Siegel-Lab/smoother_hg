{
 "cells": [
  {
   "cell_type": "markdown",
   "id": "adec6eda-c01f-4b1a-b095-4aaf36b53e9b",
   "metadata": {},
   "source": [
    "## Loading and rendering a smoother index\n",
    "\n",
    "Here we display a smoother index in higlass using hg and smoother_hg"
   ]
  },
  {
   "cell_type": "code",
   "execution_count": 1,
   "id": "7e076307-d4e4-465d-8ab3-562e4991f087",
   "metadata": {},
   "outputs": [
    {
     "data": {
      "application/vnd.jupyter.widget-view+json": {
       "model_id": "e087a75b8e914c75a7466c72e98b41b4",
       "version_major": 2,
       "version_minor": 0
      },
      "text/plain": [
       "HiGlassWidget()"
      ]
     },
     "execution_count": 1,
     "metadata": {},
     "output_type": "execute_result"
    }
   ],
   "source": [
    "import hg\n",
    "# importing smoother_hg automatically registers the smoother tileset with hg\n",
    "# (since smoother_hg internally imports hg the import order between hg and smoother_hg does not matter here)\n",
    "import smoother_hg\n",
    "\n",
    "# load a smoother_index\n",
    "path = \"../smoother_out/radicl.smoother_index\"\n",
    "tileset = smoother_hg.smoother(path)\n",
    "\n",
    "# create a track and view for the tileset as usual\n",
    "track = tileset.track(\"heatmap\")\n",
    "view = hg.view(track)\n",
    "\n",
    "# the tileset has to be rendered using hg_widget \n",
    "# (since smoother_hg needs access to the reload function to rerender the data once parameters have been changed)\n",
    "widget = view.widget()\n",
    "\n",
    "# display the widget\n",
    "widget"
   ]
  },
  {
   "cell_type": "markdown",
   "id": "287e7077-de56-41eb-82e8-3020dd43fb43",
   "metadata": {
    "tags": []
   },
   "source": [
    "## Adding the default sliders to the above index\n",
    "\n",
    "Here we load the default smoother_hg gui and link it to the previously created index and view"
   ]
  },
  {
   "cell_type": "code",
   "execution_count": 2,
   "id": "276e67c0-6f13-4264-9b52-3335973c8f71",
   "metadata": {},
   "outputs": [
    {
     "data": {
      "application/vnd.jupyter.widget-view+json": {
       "model_id": "acc11d616ad547c6b27c577ee260a7ff",
       "version_major": 2,
       "version_minor": 0
      },
      "text/plain": [
       "VBox(children=(HBox(children=(Label(value='Mapping Quality Minimum'), IntSlider(value=0, continuous_update=Fal…"
      ]
     },
     "execution_count": 2,
     "metadata": {},
     "output_type": "execute_result"
    }
   ],
   "source": [
    "# this function needs the widget (so that it can reload the shown data),\n",
    "# the view (so that it knowns what to reload), and the path to the smoother index (so it can link the gui to the index)\n",
    "smoother_hg.default_gui(path, widget, view)"
   ]
  },
  {
   "cell_type": "markdown",
   "id": "e00acb72-658d-4425-a142-147fe54d6ac9",
   "metadata": {},
   "source": [
    "## Adding a custom button\n",
    "Some reads map to extremely many genomic loci. An aligner might choose to report merely one random mapping loci for such reads.\n",
    "We call these reads truncated-multimapping. Smoother can filter out such reads.\n",
    "\n",
    "Here we add a custom button that controlls whether these reads are filtered out or not."
   ]
  },
  {
   "cell_type": "code",
   "execution_count": 3,
   "id": "116a3d69-c83e-4f1c-804f-065dac15ffa7",
   "metadata": {},
   "outputs": [
    {
     "data": {
      "application/vnd.jupyter.widget-view+json": {
       "model_id": "e0d9dbb53f914af8a2d46bd18196872a",
       "version_major": 2,
       "version_minor": 0
      },
      "text/plain": [
       "Checkbox(value=True, description='Display truncated-multimapping reads')"
      ]
     },
     "execution_count": 3,
     "metadata": {},
     "output_type": "execute_result"
    }
   ],
   "source": [
    "import ipywidgets\n",
    "\n",
    "# create a checkbox using ipywidgets\n",
    "ddd_checkbox = ipywidgets.Checkbox(value=True, description='Display truncated-multimapping reads')\n",
    "\n",
    "# create a callback that shall trigger if the checkbox is clicked \n",
    "def ddd_val_change(change):\n",
    "    # communicate to smoother_hg that the 'ddd' setting has changed\n",
    "    # this will update the json session and cause higlass to rerender\n",
    "    smoother_hg.update_setting(path, widget, view, [\"settings\", \"filters\", \"incomplete_alignments\"], change['new'])\n",
    "# register the callback at the checkbox\n",
    "ddd_checkbox.observe(ddd_val_change, names='value')\n",
    "\n",
    "# display the checkbox\n",
    "ddd_checkbox"
   ]
  }
 ],
 "metadata": {
  "kernelspec": {
   "display_name": "hg-kernel",
   "language": "python",
   "name": "hg"
  },
  "language_info": {
   "codemirror_mode": {
    "name": "ipython",
    "version": 3
   },
   "file_extension": ".py",
   "mimetype": "text/x-python",
   "name": "python",
   "nbconvert_exporter": "python",
   "pygments_lexer": "ipython3",
   "version": "3.8.16"
  }
 },
 "nbformat": 4,
 "nbformat_minor": 5
}
